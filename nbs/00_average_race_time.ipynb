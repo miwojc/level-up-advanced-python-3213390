{
 "cells": [
  {
   "cell_type": "markdown",
   "metadata": {},
   "source": [
    "# Average race time\n",
    "\n",
    "> Source of data: https://www.arrs.run/  \n",
    "> This dataset has race times for women 10k runners from the Association of Road Racing Statisticians"
   ]
  },
  {
   "cell_type": "code",
   "execution_count": 86,
   "metadata": {},
   "outputs": [],
   "source": [
    "# | default_exp average_race_time"
   ]
  },
  {
   "cell_type": "code",
   "execution_count": 87,
   "metadata": {},
   "outputs": [],
   "source": [
    "# | hide\n",
    "from nbdev.showdoc import *"
   ]
  },
  {
   "cell_type": "code",
   "execution_count": 88,
   "metadata": {},
   "outputs": [],
   "source": [
    "# | export\n",
    "import re\n",
    "import datetime\n",
    "from pathlib import Path"
   ]
  },
  {
   "cell_type": "code",
   "execution_count": 90,
   "metadata": {},
   "outputs": [],
   "source": [
    "# | export\n",
    "def get_data(path: Path | str = \"../challenge/10k_racetimes.txt\") -> str:\n",
    "    \"\"\"Return content from the file at path, default: 10k_racetimes.txt\"\"\"\n",
    "    content = Path(path).read_text(encoding=\"utf-8\")\n",
    "    return content"
   ]
  },
  {
   "cell_type": "code",
   "execution_count": 91,
   "metadata": {},
   "outputs": [],
   "source": [
    "# | export\n",
    "def get_rhines_times() -> list[str]:\n",
    "    \"\"\"Return a list of Jennifer Rhines' race times\"\"\"\n",
    "    races = get_data().split(\"\\n\")\n",
    "    rhines_times = []\n",
    "    for row in races[1:-1]:\n",
    "        race_time, fname, lname, *_ = row.split()\n",
    "        if fname == \"Jennifer\" and lname.startswith(\"Rhines\"):\n",
    "            rhines_times.append(race_time)\n",
    "    return rhines_times"
   ]
  },
  {
   "cell_type": "code",
   "execution_count": 92,
   "metadata": {},
   "outputs": [],
   "source": [
    "# | export\n",
    "def get_average() -> str:\n",
    "    \"\"\"Return Jennifer Rhines' average race time in the format:\n",
    "    mm:ss:M where :\n",
    "    m corresponds to a minutes digit\n",
    "    s corresponds to a seconds digit\n",
    "    M corresponds to a milliseconds digit (no rounding, just the single digit)\"\"\"\n",
    "    racetimes = get_rhines_times()\n",
    "    total = datetime.timedelta()\n",
    "    for racetime in racetimes:\n",
    "        try:\n",
    "            mins, secs, ms = re.split(r\"[:.]\", racetime)\n",
    "            total += datetime.timedelta(\n",
    "                minutes=int(mins), seconds=int(secs), milliseconds=int(ms)\n",
    "            )\n",
    "        except ValueError:\n",
    "            mins, secs = re.split(r\"[:.]\", racetime)\n",
    "            total += datetime.timedelta(minutes=int(mins), seconds=int(secs))\n",
    "    return f\"{total / len(racetimes)}\"[2:-5]"
   ]
  },
  {
   "cell_type": "code",
   "execution_count": 95,
   "metadata": {},
   "outputs": [],
   "source": [
    "# | hide\n",
    "import nbdev\n",
    "\n",
    "nbdev.nbdev_export()"
   ]
  },
  {
   "cell_type": "code",
   "execution_count": 103,
   "metadata": {},
   "outputs": [
    {
     "name": "stdout",
     "output_type": "stream",
     "text": [
      "\u001b[1m============================= test session starts ==============================\u001b[0m\n",
      "platform darwin -- Python 3.10.6, pytest-7.1.2, pluggy-1.0.0\n",
      "rootdir: /Users/mwojczulis/level-up-advanced-python-3213390\n",
      "plugins: mock-3.6.1, anyio-3.6.2, hydra-core-1.1.1, cov-3.0.0\n",
      "collected 2 items                                                              \u001b[0m\n",
      "\n",
      "../challenge/tests/test_average_race_time.py \u001b[32m.\u001b[0m\u001b[32m.\u001b[0m\u001b[32m                          [100%]\u001b[0m\n",
      "\n",
      "\u001b[32m============================== \u001b[32m\u001b[1m2 passed\u001b[0m\u001b[32m in 0.02s\u001b[0m\u001b[32m ===============================\u001b[0m\n"
     ]
    }
   ],
   "source": [
    "# | hide\n",
    "! pytest ../challenge/tests/test_average_race_time.py"
   ]
  },
  {
   "cell_type": "code",
   "execution_count": null,
   "metadata": {},
   "outputs": [],
   "source": []
  }
 ],
 "metadata": {
  "kernelspec": {
   "display_name": "Python 3 (ipykernel)",
   "language": "python",
   "name": "python3"
  },
  "language_info": {
   "codemirror_mode": {
    "name": "ipython",
    "version": 3
   },
   "file_extension": ".py",
   "mimetype": "text/x-python",
   "name": "python",
   "nbconvert_exporter": "python",
   "pygments_lexer": "ipython3",
   "version": "3.10.6"
  }
 },
 "nbformat": 4,
 "nbformat_minor": 4
}
